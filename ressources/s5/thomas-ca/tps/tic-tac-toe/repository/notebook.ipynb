{
 "cells": [
  {
   "cell_type": "markdown",
   "id": "001c48a9-406b-40a7-a3f3-7e4286ed428d",
   "metadata": {},
   "source": [
    "# Projet Morpion"
   ]
  },
  {
   "cell_type": "code",
   "execution_count": 1,
   "id": "8c84d601-8072-4924-904f-2d234f9574e0",
   "metadata": {},
   "outputs": [],
   "source": [
    "# Importation de notre classe Morpion depuis le fichier morpion.py\n",
    "# Cette classe contient l'implémentation du jeu de base\n",
    "from morpion import Morpion\n",
    "\n",
    "# Matplotlib : bibliothèque de visualisation pour créer des graphiques\n",
    "# Nous l'utiliserons pour visualiser l'apprentissage de l'IA\n",
    "import matplotlib.pyplot as plt\n",
    "\n",
    "# NumPy : bibliothèque pour le calcul scientifique\n",
    "# Utilisée pour les opérations mathématiques et la manipulation de tableaux\n",
    "import numpy as np\n",
    "\n",
    "# Module random pour générer des nombres aléatoires\n",
    "# Utilisé pour l'exploration dans l'algorithme de Q-Learning\n",
    "import random\n",
    "\n",
    "# IPython.display : module pour contrôler l'affichage dans Jupyter\n",
    "# clear_output permet d'effacer la sortie précédente pour une meilleure visualisation\n",
    "from IPython.display import clear_output"
   ]
  },
  {
   "cell_type": "code",
   "execution_count": null,
   "id": "64f18e1d-3715-4cb4-89dd-187b374041f6",
   "metadata": {},
   "outputs": [],
   "source": []
  }
 ],
 "metadata": {
  "kernelspec": {
   "display_name": "Python 3 (ipykernel)",
   "language": "python",
   "name": "python3"
  },
  "language_info": {
   "codemirror_mode": {
    "name": "ipython",
    "version": 3
   },
   "file_extension": ".py",
   "mimetype": "text/x-python",
   "name": "python",
   "nbconvert_exporter": "python",
   "pygments_lexer": "ipython3",
   "version": "3.12.8"
  }
 },
 "nbformat": 4,
 "nbformat_minor": 5
}
